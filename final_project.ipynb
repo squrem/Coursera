{
 "cells": [
  {
   "cell_type": "code",
   "execution_count": 1,
   "metadata": {},
   "outputs": [],
   "source": [
    "import pandas as pd\n",
    "import seaborn as sns\n",
    "import matplotlib.pyplot as plt\n",
    "import numpy as np\n",
    "import scipy.stats as ss\n",
    "import pandahouse as ph\n",
    "\n",
    "sns.set(font_scale=1.2,\n",
    "        style='whitegrid')"
   ]
  },
  {
   "cell_type": "markdown",
   "metadata": {},
   "source": [
    "# Вариант 2\n",
    "\n",
    "*Функции, которые необходимо написать для решения задачи 3, будут написаны в ходе решения задачи 1*\n",
    "\n",
    "Итак, начнем с загрузки данных. Грузим данные об активных пользователях и об оплате. Проверяем на пропущенные данные и типы."
   ]
  },
  {
   "cell_type": "code",
   "execution_count": 4,
   "metadata": {},
   "outputs": [],
   "source": [
    "active = pd.read_csv('active_studs.csv')\n",
    "checks = pd.read_csv('checks.csv', sep=';') "
   ]
  },
  {
   "cell_type": "code",
   "execution_count": 5,
   "metadata": {},
   "outputs": [
    {
     "data": {
      "text/plain": [
       "student_id    0\n",
       "dtype: int64"
      ]
     },
     "execution_count": 5,
     "metadata": {},
     "output_type": "execute_result"
    }
   ],
   "source": [
    "active.isna().sum()"
   ]
  },
  {
   "cell_type": "code",
   "execution_count": 6,
   "metadata": {},
   "outputs": [
    {
     "data": {
      "text/plain": [
       "student_id    0\n",
       "rev           0\n",
       "dtype: int64"
      ]
     },
     "execution_count": 6,
     "metadata": {},
     "output_type": "execute_result"
    }
   ],
   "source": [
    "checks.isna().sum()"
   ]
  },
  {
   "cell_type": "code",
   "execution_count": 7,
   "metadata": {},
   "outputs": [
    {
     "data": {
      "text/plain": [
       "student_id      int64\n",
       "rev           float64\n",
       "dtype: object"
      ]
     },
     "execution_count": 7,
     "metadata": {},
     "output_type": "execute_result"
    }
   ],
   "source": [
    "checks.dtypes"
   ]
  },
  {
   "cell_type": "code",
   "execution_count": 8,
   "metadata": {},
   "outputs": [
    {
     "data": {
      "text/plain": [
       "student_id    int64\n",
       "dtype: object"
      ]
     },
     "execution_count": 8,
     "metadata": {},
     "output_type": "execute_result"
    }
   ],
   "source": [
    "active.dtypes"
   ]
  },
  {
   "cell_type": "markdown",
   "metadata": {},
   "source": [
    "###### 1. Далее будем грузить данные о группах пользователях.\n",
    "**Попутно решаем задачу 3.** Будем подготавливать данные к анализу.\n",
    "В фрейме df содержатся данные о разбиении на группы. \n",
    "\n",
    "Функция **load_data** будет \n",
    " - загружать данные из файла filename\n",
    " - сливать новые данные с исходным датафреймом df (если он дан)"
   ]
  },
  {
   "cell_type": "code",
   "execution_count": 9,
   "metadata": {},
   "outputs": [],
   "source": [
    "def load_data(filename, df=pd.DataFrame(), sep=','):\n",
    "    try:\n",
    "        # мучаемся с разделителями\n",
    "        df_loaded = pd.read_csv(filename, sep=sep)\n",
    "        if (df_loaded.shape[1] != 2):\n",
    "            df_loaded = pd.read_csv(filename, sep=';')\n",
    "        # если ничего не получилось, не угадали разделитель    \n",
    "        if (df_loaded.shape[1] != 2):\n",
    "            print('specify the separator')\n",
    "            return df\n",
    "        # а если получилось, то соединяем датафреймы\n",
    "        df_loaded = df_loaded.dropna()\n",
    "        df_loaded = df_loaded.rename(columns={'id': 'student_id'})\n",
    "        return pd.concat([df, df_loaded], ignore_index=True)\n",
    "    except FileNotFoundError: \n",
    "        print('failed to load data')\n",
    "        return df"
   ]
  },
  {
   "cell_type": "markdown",
   "metadata": {},
   "source": [
    "Грузим данные о группах из 'groups.csv'. Получаем следующую выборку."
   ]
  },
  {
   "cell_type": "code",
   "execution_count": 10,
   "metadata": {},
   "outputs": [],
   "source": [
    "data = load_data('groups.csv')"
   ]
  },
  {
   "cell_type": "code",
   "execution_count": 11,
   "metadata": {},
   "outputs": [
    {
     "data": {
      "text/html": [
       "<div>\n",
       "<style scoped>\n",
       "    .dataframe tbody tr th:only-of-type {\n",
       "        vertical-align: middle;\n",
       "    }\n",
       "\n",
       "    .dataframe tbody tr th {\n",
       "        vertical-align: top;\n",
       "    }\n",
       "\n",
       "    .dataframe thead th {\n",
       "        text-align: right;\n",
       "    }\n",
       "</style>\n",
       "<table border=\"1\" class=\"dataframe\">\n",
       "  <thead>\n",
       "    <tr style=\"text-align: right;\">\n",
       "      <th></th>\n",
       "      <th>student_id</th>\n",
       "      <th>grp</th>\n",
       "    </tr>\n",
       "  </thead>\n",
       "  <tbody>\n",
       "    <tr>\n",
       "      <th>0</th>\n",
       "      <td>1489</td>\n",
       "      <td>B</td>\n",
       "    </tr>\n",
       "    <tr>\n",
       "      <th>1</th>\n",
       "      <td>1627</td>\n",
       "      <td>A</td>\n",
       "    </tr>\n",
       "    <tr>\n",
       "      <th>2</th>\n",
       "      <td>1768</td>\n",
       "      <td>B</td>\n",
       "    </tr>\n",
       "    <tr>\n",
       "      <th>3</th>\n",
       "      <td>1783</td>\n",
       "      <td>B</td>\n",
       "    </tr>\n",
       "    <tr>\n",
       "      <th>4</th>\n",
       "      <td>1794</td>\n",
       "      <td>A</td>\n",
       "    </tr>\n",
       "    <tr>\n",
       "      <th>...</th>\n",
       "      <td>...</td>\n",
       "      <td>...</td>\n",
       "    </tr>\n",
       "    <tr>\n",
       "      <th>74479</th>\n",
       "      <td>5692459</td>\n",
       "      <td>B</td>\n",
       "    </tr>\n",
       "    <tr>\n",
       "      <th>74480</th>\n",
       "      <td>5692572</td>\n",
       "      <td>B</td>\n",
       "    </tr>\n",
       "    <tr>\n",
       "      <th>74481</th>\n",
       "      <td>5692865</td>\n",
       "      <td>B</td>\n",
       "    </tr>\n",
       "    <tr>\n",
       "      <th>74482</th>\n",
       "      <td>5693667</td>\n",
       "      <td>B</td>\n",
       "    </tr>\n",
       "    <tr>\n",
       "      <th>74483</th>\n",
       "      <td>5694419</td>\n",
       "      <td>B</td>\n",
       "    </tr>\n",
       "  </tbody>\n",
       "</table>\n",
       "<p>74484 rows × 2 columns</p>\n",
       "</div>"
      ],
      "text/plain": [
       "       student_id grp\n",
       "0            1489   B\n",
       "1            1627   A\n",
       "2            1768   B\n",
       "3            1783   B\n",
       "4            1794   A\n",
       "...           ...  ..\n",
       "74479     5692459   B\n",
       "74480     5692572   B\n",
       "74481     5692865   B\n",
       "74482     5693667   B\n",
       "74483     5694419   B\n",
       "\n",
       "[74484 rows x 2 columns]"
      ]
     },
     "execution_count": 11,
     "metadata": {},
     "output_type": "execute_result"
    }
   ],
   "source": [
    "data"
   ]
  },
  {
   "cell_type": "markdown",
   "metadata": {},
   "source": [
    "Следующие две функции будут использоваться для выделения подгрупп активных пользователей и клиентов"
   ]
  },
  {
   "cell_type": "code",
   "execution_count": 12,
   "metadata": {},
   "outputs": [],
   "source": [
    "def get_active(df):\n",
    "    return df.loc[df.student_id.isin(active.student_id)]    "
   ]
  },
  {
   "cell_type": "code",
   "execution_count": 13,
   "metadata": {},
   "outputs": [],
   "source": [
    "def get_customers(df):\n",
    "    return df.merge(checks, on='student_id')"
   ]
  },
  {
   "cell_type": "markdown",
   "metadata": {},
   "source": [
    "###### 2. Визуализируем данные"
   ]
  },
  {
   "cell_type": "markdown",
   "metadata": {},
   "source": [
    "Функция **get_graph** будет рисовать boxplot и гистограмму для обеих групп (конечно для тех пользователей, что произвели оплату)"
   ]
  },
  {
   "cell_type": "code",
   "execution_count": 14,
   "metadata": {},
   "outputs": [],
   "source": [
    "def get_graph(df):\n",
    "    dt = get_customers(df)\n",
    "    fig, axes = plt.subplots(nrows=2, ncols=1, figsize=(8, 12))\n",
    "    sns.boxplot(data=dt, x='rev', y='grp', ax=axes[0])\n",
    "    axes[0].set(title=\"Распределение оплаты по группам\\n\",\n",
    "                xlabel='',\n",
    "                ylabel='Группа')\n",
    "\n",
    "    ax2 = sns.histplot(data=dt, x='rev', hue='grp', kde=True, bins=30, ax=axes[1])\n",
    "    ax2.set(title=\"Гистограмма по группам\\n\",\n",
    "            xlabel='Оплата',\n",
    "            ylabel='Количество')\n",
    "\n",
    "    sns.despine()"
   ]
  },
  {
   "cell_type": "markdown",
   "metadata": {},
   "source": [
    "Посмотрим, что нам покажет визуализация исходных данные, исходя из нее, примем решения о метриках, которые будем рассматривать."
   ]
  },
  {
   "cell_type": "code",
   "execution_count": 15,
   "metadata": {},
   "outputs": [
    {
     "data": {
      "image/png": "[encoded data removed]",
      "text/plain": [
       "<Figure size 576x864 with 2 Axes>"
      ]
     },
     "metadata": {},
     "output_type": "display_data"
    }
   ],
   "source": [
    "get_graph(data)"
   ]
  },
  {
   "cell_type": "markdown",
   "metadata": {},
   "source": [
    "На первый взгляд дела в тестовой группе (B) обстоят гораздо лучше. Еще явно видно, что размер оплаты концентрируется на определенных суммах. Откуда можно сделать предположение, что существет некоторая абонентская плата (на которой достигается мода), а остальное - это какие-то дополнительные покупки в приложении. Судя по тому, что в контрольной группе мода сместилась, то можно сделать предположение, что тестировался переход на новый тарифный план (с 290 на 1900), что весьма существенный рост, поэтому имеет смысл следить за тем, какая доля клиентов оплатила сумму равную моде в соответствующих группах.\n",
    "\n",
    "В связи с существенным ростом оплаты, нужно также контролировать степень удовлетворенности пользователей, поэтому будем смотреть на конверсию из пользователей в клиенты.\n",
    "\n",
    "Еще видно, что в группах есть выбросы, поэтому сравнение медиан будет лучше сравнения средних (а медиана в тестовой больше, см boxplot)\n",
    "\n",
    "Выборки не нормальны (логарифмирование и вообще применение любой монотонной функции тут не поможет), поэтому если сравнивать их, то применять или бутстреп для оценки параметров или критерий Манна-Уитни.\n",
    "\n",
    "Однако отметим, что размеры групп разные, поэтому для сравнения нужны относительные метрики.  \n",
    "Нам неизвестны расходы, которые были при проведении данного сеста, но нам нужно убедиться, что и относительные доходы (arppu, arpu) тоже увеличились."
   ]
  },
  {
   "cell_type": "code",
   "execution_count": 16,
   "metadata": {},
   "outputs": [
    {
     "data": {
      "text/plain": [
       "B    59813\n",
       "A    14671\n",
       "Name: grp, dtype: int64"
      ]
     },
     "execution_count": 16,
     "metadata": {},
     "output_type": "execute_result"
    }
   ],
   "source": [
    "data.grp.value_counts()"
   ]
  },
  {
   "cell_type": "markdown",
   "metadata": {},
   "source": [
    "Кроме того, количество клиентов оказывается больше количества активных клиентов. \n",
    "Непонятно из задачи, баг это или фича, потому что если у нас какое-то приложение, а покупки можно сделать только в нем, \n",
    "то мы пропускаем активных клиентов (баг) во время A\\B теста, а если у нас какой-нибудь стим, где что-то накупили на распродаже \n",
    "и не пользовались этим, то все нормально.\n",
    "\n",
    "Будем считать это фичей и поэтому отдельно придется рассматривать конверсию из пользователей в клиенты. Последнее более важно, поэтому везде далее мы рассматриваем именно всех клиентов."
   ]
  },
  {
   "cell_type": "code",
   "execution_count": 17,
   "metadata": {},
   "outputs": [
    {
     "data": {
      "text/plain": [
       "540"
      ]
     },
     "execution_count": 17,
     "metadata": {},
     "output_type": "execute_result"
    }
   ],
   "source": [
    "# клиенты, сделавшие оплату\n",
    "get_customers(data).shape[0]"
   ]
  },
  {
   "cell_type": "code",
   "execution_count": 18,
   "metadata": {},
   "outputs": [
    {
     "data": {
      "text/plain": [
       "391"
      ]
     },
     "execution_count": 18,
     "metadata": {},
     "output_type": "execute_result"
    }
   ],
   "source": [
    "# активные клиенты, сделавшие оплату\n",
    "get_customers(get_active(data)).shape[0]"
   ]
  },
  {
   "cell_type": "markdown",
   "metadata": {},
   "source": [
    "##### 3. Определимся с метриками, которые будем отслеживать для групп\n",
    "1. Группа статистических метрик\n",
    "   - Среднее выборочное(**с_mean**)\n",
    "   - Медиана для оплаты (**с_med**)\n",
    "   - мода (**с_mode**)\n",
    "   - доля количества пользователей, которые оплатили сумму, равную моде (**modeA_ratio**, **modeB_ratio**)\n",
    "\n",
    "2. Метрики, связанные с заинтересованностью пользователей\n",
    "   - конверсия в активные (**cr_active**)\n",
    "   - конверсия из активных в оплату (**cr_custom**)\n",
    "   - конверсия в оплату (**cr_pay**)\n",
    "\n",
    "3. Метрики, связванные с доходом\n",
    "   - ARPPU средний доход на клиента (**arppu**) \n",
    "   - ARPU средний доход на пользователя (**arpu**)\n",
    "   \n",
    "   \n",
    "Функция **get_metrics** вычисляет вышеперечисленные метрики\n"
   ]
  },
  {
   "cell_type": "code",
   "execution_count": 19,
   "metadata": {},
   "outputs": [],
   "source": [
    "# Для автоматизации, считает количество элементов в группах, сливает с df_res\n",
    "def get_count(df, col_name, df_res=pd.DataFrame(data=['A', 'B'], columns=['grp'])):\n",
    "    res = df.groupby('grp', as_index=False)\\\n",
    "        .agg({'student_id': 'count'})\\\n",
    "        .rename(columns={'student_id': col_name})\\\n",
    "        .astype({col_name: 'int32'})\n",
    "    return df_res.merge(res, how='left', on='grp').fillna(0)"
   ]
  },
  {
   "cell_type": "code",
   "execution_count": 20,
   "metadata": {},
   "outputs": [
    {
     "data": {
      "text/html": [
       "<div>\n",
       "<style scoped>\n",
       "    .dataframe tbody tr th:only-of-type {\n",
       "        vertical-align: middle;\n",
       "    }\n",
       "\n",
       "    .dataframe tbody tr th {\n",
       "        vertical-align: top;\n",
       "    }\n",
       "\n",
       "    .dataframe thead th {\n",
       "        text-align: right;\n",
       "    }\n",
       "</style>\n",
       "<table border=\"1\" class=\"dataframe\">\n",
       "  <thead>\n",
       "    <tr style=\"text-align: right;\">\n",
       "      <th></th>\n",
       "      <th>grp</th>\n",
       "      <th>group_size</th>\n",
       "    </tr>\n",
       "  </thead>\n",
       "  <tbody>\n",
       "    <tr>\n",
       "      <th>0</th>\n",
       "      <td>A</td>\n",
       "      <td>14671</td>\n",
       "    </tr>\n",
       "    <tr>\n",
       "      <th>1</th>\n",
       "      <td>B</td>\n",
       "      <td>59813</td>\n",
       "    </tr>\n",
       "  </tbody>\n",
       "</table>\n",
       "</div>"
      ],
      "text/plain": [
       "  grp  group_size\n",
       "0   A       14671\n",
       "1   B       59813"
      ]
     },
     "execution_count": 20,
     "metadata": {},
     "output_type": "execute_result"
    }
   ],
   "source": [
    "get_count(data, col_name='group_size')"
   ]
  },
  {
   "cell_type": "code",
   "execution_count": 21,
   "metadata": {},
   "outputs": [],
   "source": [
    "def get_stat(df, metrics):\n",
    "    ''''добавляет в metrics сумму, среднее, медиану и моду данных из df, сгруппированных по группе'''\n",
    "    res = df.groupby('grp', as_index=False)\\\n",
    "        .agg(c_sum=('rev', 'sum'),\n",
    "             c_mean=('rev', 'mean'),\n",
    "             c_med=('rev', np.median),\n",
    "             c_mode=('rev', lambda x: ss.mode(x)[0][0]))\n",
    "    return metrics.merge(res, on='grp')"
   ]
  },
  {
   "cell_type": "code",
   "execution_count": 22,
   "metadata": {},
   "outputs": [],
   "source": [
    "col_list = ['grp', 'group_size', 'customers', 'c_mean', 'c_med', 'c_mode', 'modeA_ratio', \n",
    "            'modeB_ratio', 'cr_active', 'cr_custom', 'cr_pay', 'arppu', 'arpu']"
   ]
  },
  {
   "cell_type": "code",
   "execution_count": 23,
   "metadata": {},
   "outputs": [],
   "source": [
    "def get_metrics(data):\n",
    "    # размер группы\n",
    "    metrics = get_count(data, 'group_size')\n",
    "    # число активных пользователей\n",
    "    metrics = get_count(get_active(data), 'active', metrics)\n",
    "    # число клиентов\n",
    "    customers = get_customers(data)\n",
    "    metrics = get_count(customers, 'customers', metrics)\n",
    "    # число активных клиентов\n",
    "    metrics = get_count(get_customers(get_active(data)), 'active_customers', metrics)\n",
    "    # считаем статистику\n",
    "    metrics = get_stat(customers, metrics)\n",
    "    # считаем целевые метрики\n",
    "    \n",
    "    metrics = get_count(customers.loc[abs(metrics.loc[0, 'c_mode'] - customers.rev) < 0.1], 'modeA_count', metrics)\n",
    "    metrics = get_count(customers.loc[abs(metrics.loc[1, 'c_mode'] - customers.rev) < 0.1], 'modeB_count', metrics)\n",
    "    \n",
    "    metrics = metrics.assign( \n",
    "        modeA_ratio=round(metrics.modeA_count / metrics.customers * 100, 2),\n",
    "        modeB_ratio=round(metrics.modeB_count / metrics.customers * 100, 2),\n",
    "        cr_active=round(metrics.active / metrics.group_size * 100, 2),\n",
    "        cr_custom=round(metrics.customers / metrics.active * 100, 2),\n",
    "        cr_pay=round(metrics.active_customers / metrics.group_size * 100, 2),\n",
    "        arppu=round(metrics['c_sum'] / metrics.customers, 2),\n",
    "        arpu=round(metrics['c_sum'] / metrics.group_size, 2))\n",
    "       \n",
    "    return metrics[col_list]"
   ]
  },
  {
   "cell_type": "code",
   "execution_count": 24,
   "metadata": {},
   "outputs": [
    {
     "data": {
      "text/html": [
       "<div>\n",
       "<style scoped>\n",
       "    .dataframe tbody tr th:only-of-type {\n",
       "        vertical-align: middle;\n",
       "    }\n",
       "\n",
       "    .dataframe tbody tr th {\n",
       "        vertical-align: top;\n",
       "    }\n",
       "\n",
       "    .dataframe thead th {\n",
       "        text-align: right;\n",
       "    }\n",
       "</style>\n",
       "<table border=\"1\" class=\"dataframe\">\n",
       "  <thead>\n",
       "    <tr style=\"text-align: right;\">\n",
       "      <th></th>\n",
       "      <th>grp</th>\n",
       "      <th>group_size</th>\n",
       "      <th>customers</th>\n",
       "      <th>c_mean</th>\n",
       "      <th>c_med</th>\n",
       "      <th>c_mode</th>\n",
       "      <th>modeA_ratio</th>\n",
       "      <th>modeB_ratio</th>\n",
       "      <th>cr_active</th>\n",
       "      <th>cr_custom</th>\n",
       "      <th>cr_pay</th>\n",
       "      <th>arppu</th>\n",
       "      <th>arpu</th>\n",
       "    </tr>\n",
       "  </thead>\n",
       "  <tbody>\n",
       "    <tr>\n",
       "      <th>0</th>\n",
       "      <td>A</td>\n",
       "      <td>14671</td>\n",
       "      <td>107</td>\n",
       "      <td>860.710280</td>\n",
       "      <td>690.0</td>\n",
       "      <td>290.0</td>\n",
       "      <td>28.97</td>\n",
       "      <td>0.00</td>\n",
       "      <td>10.46</td>\n",
       "      <td>6.97</td>\n",
       "      <td>0.53</td>\n",
       "      <td>860.71</td>\n",
       "      <td>6.28</td>\n",
       "    </tr>\n",
       "    <tr>\n",
       "      <th>1</th>\n",
       "      <td>B</td>\n",
       "      <td>59813</td>\n",
       "      <td>433</td>\n",
       "      <td>1106.997699</td>\n",
       "      <td>880.0</td>\n",
       "      <td>1900.0</td>\n",
       "      <td>14.55</td>\n",
       "      <td>30.48</td>\n",
       "      <td>11.36</td>\n",
       "      <td>6.37</td>\n",
       "      <td>0.52</td>\n",
       "      <td>1107.00</td>\n",
       "      <td>8.01</td>\n",
       "    </tr>\n",
       "  </tbody>\n",
       "</table>\n",
       "</div>"
      ],
      "text/plain": [
       "  grp  group_size  customers       c_mean  c_med  c_mode  modeA_ratio  \\\n",
       "0   A       14671        107   860.710280  690.0   290.0        28.97   \n",
       "1   B       59813        433  1106.997699  880.0  1900.0        14.55   \n",
       "\n",
       "   modeB_ratio  cr_active  cr_custom  cr_pay    arppu  arpu  \n",
       "0         0.00      10.46       6.97    0.53   860.71  6.28  \n",
       "1        30.48      11.36       6.37    0.52  1107.00  8.01  "
      ]
     },
     "execution_count": 24,
     "metadata": {},
     "output_type": "execute_result"
    }
   ],
   "source": [
    "get_metrics(data)"
   ]
  },
  {
   "cell_type": "markdown",
   "metadata": {},
   "source": [
    "###### 4. Сравниваем тестовую и контрольную группу\n",
    "Сначала применим критерий Манна-Уитни, будем проверять, что A \"меньше\" B\n"
   ]
  },
  {
   "cell_type": "code",
   "execution_count": 25,
   "metadata": {},
   "outputs": [],
   "source": [
    "def check_diff(data):\n",
    "    customers = get_customers(data)\n",
    "    A = customers.query(\"grp == 'A'\").rev.values\n",
    "    B = customers.query(\"grp == 'B'\").rev.values\n",
    "    return ss.mannwhitneyu(A, B, alternative='less')"
   ]
  },
  {
   "cell_type": "code",
   "execution_count": 26,
   "metadata": {},
   "outputs": [
    {
     "data": {
      "text/plain": [
       "MannwhitneyuResult(statistic=17850.0, pvalue=0.00010509845166809122)"
      ]
     },
     "execution_count": 26,
     "metadata": {},
     "output_type": "execute_result"
    }
   ],
   "source": [
    "check_diff(data)"
   ]
  },
  {
   "cell_type": "markdown",
   "metadata": {},
   "source": [
    "*p_value < 0.05*, поэтому мы можем принять гипотезу о том, что результаты тестовой выборки в целом лучше контрольной"
   ]
  },
  {
   "cell_type": "markdown",
   "metadata": {},
   "source": [
    "А теперь проведем bootstrap для медиан (как указано выше, в выборках есть выбросы)"
   ]
  },
  {
   "cell_type": "code",
   "execution_count": 35,
   "metadata": {},
   "outputs": [],
   "source": [
    "def get_bootstrap(control, test, bs_iternum=1000, bs_value=0.05, bs_stat=np.mean):\n",
    "\n",
    "    bs_size1 = len(test)\n",
    "    bs_size2 = len(control)\n",
    "    # нагенерируем себе выборку с повторениями и посчитаем разницу статистик для них, положим в массив\n",
    "    bs_data = []\n",
    "    for i in range(bs_iternum):\n",
    "        sample_1 = np.random.choice(test, bs_size1, replace=True)\n",
    "        sample_2 = np.random.choice(control, bs_size2, replace=True)\n",
    "        bs_data.append(bs_stat(sample_1) - bs_stat(sample_2))\n",
    "    # считаем p_value\n",
    "    s_pos = np.sum([x > 0 for x in bs_data])\n",
    "    s_neg = np.sum([x < 0 for x in bs_data])\n",
    "    p_value = min(s_pos, s_neg) * 2 / bs_iternum \n",
    "    \n",
    "    df_bs = pd.DataFrame(bs_data)\n",
    "   \n",
    "    # границы доверительного интервала\n",
    "    left_q = bs_value / 2\n",
    "    right_q = 1 - bs_value / 2\n",
    "    quants = df_bs.quantile([left_q, right_q])\n",
    "    \n",
    "    # Визуализация\n",
    "    _, _, bars = plt.hist(df_bs[0], bins=50)\n",
    "    for bar in bars:\n",
    "        if bar.get_x() <= quants.iloc[0][0] or bar.get_x() >= quants.iloc[1][0]:\n",
    "            bar.set_facecolor('red')\n",
    "        else: \n",
    "            bar.set_facecolor('grey')\n",
    "            bar.set_edgecolor('black')\n",
    "    \n",
    "    plt.style.use('ggplot')\n",
    "    plt.vlines(quants, ymin=0, ymax=50, linestyle='--')\n",
    "    plt.xlabel('boot_data')\n",
    "    plt.ylabel('frequency')\n",
    "    plt.title(\"Histogram of boot_data\")\n",
    "    plt.show()\n",
    "    \n",
    "    return {\"quants\": quants, \n",
    "            \"p_value\": p_value}"
   ]
  },
  {
   "cell_type": "code",
   "execution_count": 36,
   "metadata": {},
   "outputs": [
    {
     "data": {
      "image/png": "[encoded data removed]",
      "text/plain": [
       "<Figure size 432x288 with 1 Axes>"
      ]
     },
     "metadata": {},
     "output_type": "display_data"
    },
    {
     "data": {
      "text/plain": [
       "{'quants':            0\n",
       " 0.025  150.0\n",
       " 0.975  410.0,\n",
       " 'p_value': 0.0}"
      ]
     },
     "execution_count": 36,
     "metadata": {},
     "output_type": "execute_result"
    }
   ],
   "source": [
    "customers = get_customers(data)\n",
    "A = customers.query(\"grp == 'A'\").rev.values\n",
    "B = customers.query(\"grp == 'B'\").rev.values\n",
    "get_bootstrap(A, B, bs_iternum=1000, bs_stat=np.median)"
   ]
  },
  {
   "cell_type": "markdown",
   "metadata": {},
   "source": [
    "0 не лежит в доверительном интервале, поэтому можно  с 95% уверенностью можно считать, что медиана тестовой выборки больше медианы контрольной"
   ]
  },
  {
   "cell_type": "markdown",
   "metadata": {},
   "source": [
    "##### 5. Возьмем новые данные и сделаем то же самое\n"
   ]
  },
  {
   "cell_type": "code",
   "execution_count": 33,
   "metadata": {},
   "outputs": [],
   "source": [
    "new_data = load_data('group_add.csv', data)"
   ]
  },
  {
   "cell_type": "code",
   "execution_count": 34,
   "metadata": {},
   "outputs": [
    {
     "data": {
      "image/png": "[encoded data removed]",
      "text/plain": [
       "<Figure size 576x864 with 2 Axes>"
      ]
     },
     "metadata": {},
     "output_type": "display_data"
    }
   ],
   "source": [
    "get_graph(new_data)"
   ]
  },
  {
   "cell_type": "code",
   "execution_count": 35,
   "metadata": {},
   "outputs": [
    {
     "data": {
      "text/html": [
       "<div>\n",
       "<style scoped>\n",
       "    .dataframe tbody tr th:only-of-type {\n",
       "        vertical-align: middle;\n",
       "    }\n",
       "\n",
       "    .dataframe tbody tr th {\n",
       "        vertical-align: top;\n",
       "    }\n",
       "\n",
       "    .dataframe thead th {\n",
       "        text-align: right;\n",
       "    }\n",
       "</style>\n",
       "<table border=\"1\" class=\"dataframe\">\n",
       "  <thead>\n",
       "    <tr style=\"text-align: right;\">\n",
       "      <th></th>\n",
       "      <th>grp</th>\n",
       "      <th>group_size</th>\n",
       "      <th>customers</th>\n",
       "      <th>c_mean</th>\n",
       "      <th>c_med</th>\n",
       "      <th>c_mode</th>\n",
       "      <th>modeA_ratio</th>\n",
       "      <th>modeB_ratio</th>\n",
       "      <th>cr_active</th>\n",
       "      <th>cr_custom</th>\n",
       "      <th>cr_pay</th>\n",
       "      <th>arppu</th>\n",
       "      <th>arpu</th>\n",
       "    </tr>\n",
       "  </thead>\n",
       "  <tbody>\n",
       "    <tr>\n",
       "      <th>0</th>\n",
       "      <td>A</td>\n",
       "      <td>14693</td>\n",
       "      <td>107</td>\n",
       "      <td>860.710280</td>\n",
       "      <td>690.0</td>\n",
       "      <td>290.0</td>\n",
       "      <td>28.97</td>\n",
       "      <td>0.00</td>\n",
       "      <td>10.47</td>\n",
       "      <td>6.96</td>\n",
       "      <td>0.53</td>\n",
       "      <td>860.71</td>\n",
       "      <td>6.27</td>\n",
       "    </tr>\n",
       "    <tr>\n",
       "      <th>1</th>\n",
       "      <td>B</td>\n",
       "      <td>59883</td>\n",
       "      <td>434</td>\n",
       "      <td>1108.824893</td>\n",
       "      <td>935.0</td>\n",
       "      <td>1900.0</td>\n",
       "      <td>14.52</td>\n",
       "      <td>30.65</td>\n",
       "      <td>11.36</td>\n",
       "      <td>6.38</td>\n",
       "      <td>0.52</td>\n",
       "      <td>1108.82</td>\n",
       "      <td>8.04</td>\n",
       "    </tr>\n",
       "  </tbody>\n",
       "</table>\n",
       "</div>"
      ],
      "text/plain": [
       "  grp  group_size  customers       c_mean  c_med  c_mode  modeA_ratio  \\\n",
       "0   A       14693        107   860.710280  690.0   290.0        28.97   \n",
       "1   B       59883        434  1108.824893  935.0  1900.0        14.52   \n",
       "\n",
       "   modeB_ratio  cr_active  cr_custom  cr_pay    arppu  arpu  \n",
       "0         0.00      10.47       6.96    0.53   860.71  6.27  \n",
       "1        30.65      11.36       6.38    0.52  1108.82  8.04  "
      ]
     },
     "execution_count": 35,
     "metadata": {},
     "output_type": "execute_result"
    }
   ],
   "source": [
    "get_metrics(new_data)"
   ]
  },
  {
   "cell_type": "code",
   "execution_count": 36,
   "metadata": {},
   "outputs": [
    {
     "data": {
      "text/plain": [
       "MannwhitneyuResult(statistic=17862.0, pvalue=9.658027498190076e-05)"
      ]
     },
     "execution_count": 36,
     "metadata": {},
     "output_type": "execute_result"
    }
   ],
   "source": [
    "check_diff(new_data)"
   ]
  },
  {
   "cell_type": "markdown",
   "metadata": {},
   "source": [
    "##### 5. Подведем итог.\n",
    "Исходя из полученных данных можно сделать следующие выводы\n",
    "- в данных есть ярко выраженные всплески, предполагаемые \"тарифные планы\", в качестве теста по-видимому было введение нового тарифного плана в 1900, в контрольной группе этот план был недоступен, в тестовой на него подписалось 30% пользователей, на самом популярном старом осталось 15%. В контрольной группе на старом было 28%. Введение тового \"тарифного плана\" повысило средний доход (arpu, arppu) в тестовой группе. При этом мы видим небольшое (менее 1%) падение конверсии из активных пользователей в клиенты и незначительное (<0.02%) падение конверсии в клиенты из пользователей при увеличении доли активных пользователей на 1%\n",
    "- выборочное среднее и медиана при этом статистически значимо (на уровне 95%) увеличились в тестовой группе, что было проверено критерием Манна-Уитни и построением доверительного интервала бутстрепом.\n",
    "- при появлении новых данных мы получили картину, аналогичную исходным данным.\n",
    "\n",
    "\n",
    "Считаю, что новую механику можно запустить на всех пользователей"
   ]
  },
  {
   "cell_type": "markdown",
   "metadata": {},
   "source": [
    "##### 6. Запросы SQL\n",
    "###### 1. Необходимо написать оптимальный запрос, который даст информацию о количестве очень усердных студентов. Под очень усердным студентом мы понимаем студента, который правильно решил 20 задач за текущий месяц.\n",
    "\n",
    "~~~ SQL\n",
    "SELECT COUNT(*)\n",
    "FROM\n",
    "    (SELECT SUM(correct) as solved_problems\n",
    "    FROM peas\n",
    "    GROUP BY  st_id\n",
    "    HAVING solved_problems >= 20\n",
    "    )\n",
    "    \n",
    "~~~\n",
    "\n",
    "Данные только за 2 дня в октябре, поэтому условие \"рещить за текущий месяц\" здесь избыточно.\n",
    "\n",
    "Выполним запрос.\n",
    "\n"
   ]
  },
  {
   "cell_type": "code",
   "execution_count": 2,
   "metadata": {},
   "outputs": [],
   "source": [
    "connection_default = {'host': 'https://clickhouse.lab.karpov.courses',\n",
    "                      'database': 'default',\n",
    "                      'user': 'student', \n",
    "                      'password': 'dpo_python_2020'}"
   ]
  },
  {
   "cell_type": "code",
   "execution_count": 43,
   "metadata": {},
   "outputs": [
    {
     "data": {
      "text/html": [
       "<div>\n",
       "<style scoped>\n",
       "    .dataframe tbody tr th:only-of-type {\n",
       "        vertical-align: middle;\n",
       "    }\n",
       "\n",
       "    .dataframe tbody tr th {\n",
       "        vertical-align: top;\n",
       "    }\n",
       "\n",
       "    .dataframe thead th {\n",
       "        text-align: right;\n",
       "    }\n",
       "</style>\n",
       "<table border=\"1\" class=\"dataframe\">\n",
       "  <thead>\n",
       "    <tr style=\"text-align: right;\">\n",
       "      <th></th>\n",
       "      <th>hard_students</th>\n",
       "    </tr>\n",
       "  </thead>\n",
       "  <tbody>\n",
       "    <tr>\n",
       "      <th>0</th>\n",
       "      <td>136</td>\n",
       "    </tr>\n",
       "  </tbody>\n",
       "</table>\n",
       "</div>"
      ],
      "text/plain": [
       "   hard_students\n",
       "0            136"
      ]
     },
     "execution_count": 43,
     "metadata": {},
     "output_type": "execute_result"
    }
   ],
   "source": [
    "query1 = \"\"\"\n",
    "SELECT COUNT(*) as hard_students \n",
    "FROM\n",
    "    (SELECT SUM(correct) as solved_problems\n",
    "    FROM peas\n",
    "    GROUP BY  st_id\n",
    "    HAVING solved_problems >= 20\n",
    "    )\n",
    "\"\"\"\n",
    "df1 = ph.read_clickhouse(query1, connection=connection_default)\n",
    "df1"
   ]
  },
  {
   "cell_type": "markdown",
   "metadata": {},
   "source": [
    "###### 2. Необходимо в *одном запросе* выгрузить следующую информацию о группах пользователей:\n",
    "- ARPU \n",
    "- ARPAU \n",
    "- CR в покупку \n",
    "- СR активного пользователя в покупку \n",
    "- CR пользователя из активности по математике (subject = ’math’) в покупку курса по математике\n",
    "\n",
    "ARPU считается относительно всех пользователей, попавших в группы.\n",
    "\n",
    "Активным считается пользователь, за все время решивший больше 10 задач правильно в любых дисциплинах.\n",
    "\n",
    "Активным по математике считается пользователь, за все время решивший 2 или больше задач правильно по математике.\n",
    "\n",
    "~~~ SQL\n",
    "SELECT \n",
    "    info.group as group, \n",
    "    /*ARPPU = доход делим на число пользователей (различных)*/\n",
    "    SUM(info.total_money) / COUNT (DISTINCT info.st_id) as ARPU,\n",
    "    /*ARPAU = доход делим на число активных*/\n",
    "    SUM (IF (info.solved_problems > 10, info.total_money, 0)) / SUM (IF (info.solved_problems > 10, 1, 0)) as ARPAU,\n",
    "    /*CR в оплату*/\n",
    "    SUM (IF (info.total_money > 0, 1, 0)) / COUNT (DISTINCT info.st_id) * 100 as CR_pay,\n",
    "    /*CR активного в покупку*/\n",
    "    SUM (IF (info.total_money > 0 \n",
    "            AND info. solved_problems > 10,\n",
    "            1,0)\n",
    "        ) /\n",
    "    SUM (IF (info.solved_problems > 10, 1, 0)) * 100 as CR_active_pay,\n",
    "    /*CR из активного по математике в покупку*/\n",
    "    SUM( IF(info.math_money > 0\n",
    "        AND info.solved_math >= 2,\n",
    "        1, 0)\n",
    "        ) /\n",
    "    SUM (IF (info.solved_math >= 2, 1, 0)) * 100 as CR_active_math    \n",
    "\n",
    "FROM\n",
    "/*Таблица с информацией о группе, решенных задача и об оплате*/\n",
    "(SELECT\n",
    "    group_problems.st_id as st_id,\n",
    "    group_problems.group as group,\n",
    "    group_problems.solved_problems as solved_problems,\n",
    "    group_problems.solved_math as solved_math,\n",
    "    check.total_money  as total_money,\n",
    "    check.math_money as math_money\n",
    "FROM\n",
    "    /*Группу присрединим к информации о решенных задачах*/\n",
    "    (SELECT \n",
    "        studs.st_id as st_id,\n",
    "        studs.test_grp  as group,\n",
    "        problems_table.solved_problems as solved_problems,\n",
    "        problems_table.solved_math as solved_math\n",
    "        \n",
    "    FROM studs\n",
    "    LEFT JOIN \n",
    "        /* Соберем информацию о количестве решенных задач и \n",
    "        решенных задач по математике */ \n",
    "        (SELECT \n",
    "            st_id,\n",
    "            SUM( correct ) as solved_problems,\n",
    "            SUM( IF(  subject = 'Math' AND correct, 1, 0)) as solved_math\n",
    "        FROM peas\n",
    "        GROUP BY st_id\n",
    "        ) as problems_table\n",
    "    ON studs.st_id = problems_table.st_id\n",
    "    ) as group_problems\n",
    "LEFT JOIN\n",
    "    (SELECT\n",
    "        st_id,\n",
    "        /* все оплата */\n",
    "        SUM( check.money ) as total_money,\n",
    "        /*оплата мат курса*/\n",
    "        SUM( IF( check.subject = 'Math', check.money, 0)) as math_money\n",
    "    FROM\n",
    "        final_project_check as check\n",
    "    GROUP BY st_id\n",
    "    ) as check\n",
    "ON group_problems.st_id = check.st_id\n",
    ") as info\n",
    "\n",
    "\n",
    "GROUP BY info.group\n",
    "~~~"
   ]
  },
  {
   "cell_type": "code",
   "execution_count": 3,
   "metadata": {},
   "outputs": [
    {
     "data": {
      "text/html": [
       "<div>\n",
       "<style scoped>\n",
       "    .dataframe tbody tr th:only-of-type {\n",
       "        vertical-align: middle;\n",
       "    }\n",
       "\n",
       "    .dataframe tbody tr th {\n",
       "        vertical-align: top;\n",
       "    }\n",
       "\n",
       "    .dataframe thead th {\n",
       "        text-align: right;\n",
       "    }\n",
       "</style>\n",
       "<table border=\"1\" class=\"dataframe\">\n",
       "  <thead>\n",
       "    <tr style=\"text-align: right;\">\n",
       "      <th></th>\n",
       "      <th>group</th>\n",
       "      <th>ARPU</th>\n",
       "      <th>ARPAU</th>\n",
       "      <th>CR_pay</th>\n",
       "      <th>CR_active_pay</th>\n",
       "      <th>CR_active_math</th>\n",
       "    </tr>\n",
       "  </thead>\n",
       "  <tbody>\n",
       "    <tr>\n",
       "      <th>0</th>\n",
       "      <td>control</td>\n",
       "      <td>4540.98</td>\n",
       "      <td>10393.70</td>\n",
       "      <td>4.92</td>\n",
       "      <td>11.02</td>\n",
       "      <td>6.12</td>\n",
       "    </tr>\n",
       "    <tr>\n",
       "      <th>1</th>\n",
       "      <td>pilot</td>\n",
       "      <td>11508.47</td>\n",
       "      <td>29739.58</td>\n",
       "      <td>10.85</td>\n",
       "      <td>26.04</td>\n",
       "      <td>9.52</td>\n",
       "    </tr>\n",
       "  </tbody>\n",
       "</table>\n",
       "</div>"
      ],
      "text/plain": [
       "     group      ARPU     ARPAU  CR_pay  CR_active_pay  CR_active_math\n",
       "0  control   4540.98  10393.70    4.92          11.02            6.12\n",
       "1    pilot  11508.47  29739.58   10.85          26.04            9.52"
      ]
     },
     "execution_count": 3,
     "metadata": {},
     "output_type": "execute_result"
    }
   ],
   "source": [
    "query2 = \"\"\"\n",
    "SELECT \n",
    "    info.group as group, \n",
    "    /*ARPPU = доход делим на число пользователей (различных)*/\n",
    "    SUM(info.total_money) / COUNT (DISTINCT info.st_id) as ARPU,\n",
    "    /*ARPAU = доход делим на число активных*/\n",
    "    SUM (IF (info.solved_problems > 10, info.total_money, 0)) / SUM (IF (info.solved_problems > 10, 1, 0)) as ARPAU,\n",
    "    /*CR в оплату*/\n",
    "    SUM (IF (info.total_money > 0, 1, 0)) / COUNT (DISTINCT info.st_id) * 100 as CR_pay,\n",
    "    /*CR активного в покупку*/\n",
    "    SUM (IF (info.total_money > 0 \n",
    "            AND info. solved_problems > 10,\n",
    "            1,0)\n",
    "        ) /\n",
    "    SUM (IF (info.solved_problems > 10, 1, 0)) * 100 as CR_active_pay,\n",
    "    /*CR из активного по маткматике в покупку*/\n",
    "    SUM( IF(info.math_money > 0\n",
    "        AND info.solved_math >= 2,\n",
    "        1, 0)\n",
    "        ) /\n",
    "    SUM (IF (info.solved_math >= 2, 1, 0)) * 100 as CR_active_math    \n",
    "\n",
    "FROM\n",
    "/*Таблица с информацией о группе, решенных задача и об оплате*/\n",
    "(SELECT\n",
    "    group_problems.st_id as st_id,\n",
    "    group_problems.group as group,\n",
    "    group_problems.solved_problems as solved_problems,\n",
    "    group_problems.solved_math as solved_math,\n",
    "    check.total_money  as total_money,\n",
    "    check.math_money as math_money\n",
    "FROM\n",
    "    /*Группу присрединим к информации о решенных задачах*/\n",
    "    (SELECT \n",
    "        studs.st_id as st_id,\n",
    "        studs.test_grp  as group,\n",
    "        problems_table.solved_problems as solved_problems,\n",
    "        problems_table.solved_math as solved_math\n",
    "        \n",
    "    FROM studs\n",
    "    LEFT JOIN \n",
    "        /* Соберем информацию о количестве решенных задач и \n",
    "        решенных задач по математике */ \n",
    "        (SELECT \n",
    "            st_id,\n",
    "            SUM( correct ) as solved_problems,\n",
    "            SUM( IF(  subject = 'Math' AND correct, 1, 0)) as solved_math\n",
    "        FROM peas\n",
    "        GROUP BY st_id\n",
    "        ) as problems_table\n",
    "    ON studs.st_id = problems_table.st_id\n",
    "    ) as group_problems\n",
    "LEFT JOIN\n",
    "    (SELECT\n",
    "        st_id,\n",
    "        /* все оплата */\n",
    "        SUM( check.money ) as total_money,\n",
    "        /*оплата мат курса*/\n",
    "        SUM( IF( check.subject = 'Math', check.money, 0)) as math_money\n",
    "    FROM\n",
    "        final_project_check as check\n",
    "    GROUP BY st_id\n",
    "    ) as check\n",
    "ON group_problems.st_id = check.st_id\n",
    ") as info\n",
    "\n",
    "\n",
    "GROUP BY info.group\n",
    "\"\"\"\n",
    "df2 = ph.read_clickhouse(query2, connection=connection_default)\n",
    "df2.round(2)"
   ]
  }
 ],
 "metadata": {
  "kernelspec": {
   "display_name": "Python 3",
   "language": "python",
   "name": "python3"
  },
  "language_info": {
   "codemirror_mode": {
    "name": "ipython",
    "version": 3
   },
   "file_extension": ".py",
   "mimetype": "text/x-python",
   "name": "python",
   "nbconvert_exporter": "python",
   "pygments_lexer": "ipython3",
   "version": "3.7.3"
  }
 },
 "nbformat": 4,
 "nbformat_minor": 4
}
